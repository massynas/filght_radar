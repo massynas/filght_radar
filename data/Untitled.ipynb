{
 "cells": [
  {
   "cell_type": "code",
   "execution_count": 2,
   "id": "3730f4cf-4c13-4bd2-b187-fe5fb713eadd",
   "metadata": {},
   "outputs": [
    {
     "name": "stdout",
     "output_type": "stream",
     "text": [
      "Collecting pyspark\n",
      "  Downloading pyspark-3.5.1.tar.gz (317.0 MB)\n",
      "\u001b[2K     \u001b[90m━━━━━━━━━━━━━━━━━━━━━━━━━━━━━━━━━━━━━\u001b[0m \u001b[32m317.0/317.0 MB\u001b[0m \u001b[31m755.1 kB/s\u001b[0m eta \u001b[36m0:00:00\u001b[0m00:01\u001b[0m00:02\u001b[0m\n",
      "\u001b[?25h  Preparing metadata (setup.py) ... \u001b[?25ldone\n",
      "\u001b[?25hCollecting py4j==0.10.9.7 (from pyspark)\n",
      "  Downloading py4j-0.10.9.7-py2.py3-none-any.whl.metadata (1.5 kB)\n",
      "Downloading py4j-0.10.9.7-py2.py3-none-any.whl (200 kB)\n",
      "\u001b[2K   \u001b[90m━━━━━━━━━━━━━━━━━━━━━━━━━━━━━━━━━━━━━━━━\u001b[0m \u001b[32m200.5/200.5 kB\u001b[0m \u001b[31m3.9 MB/s\u001b[0m eta \u001b[36m0:00:00\u001b[0mta \u001b[36m0:00:01\u001b[0m\n",
      "\u001b[?25hBuilding wheels for collected packages: pyspark\n",
      "  Building wheel for pyspark (setup.py) ... \u001b[?25ldone\n",
      "\u001b[?25h  Created wheel for pyspark: filename=pyspark-3.5.1-py2.py3-none-any.whl size=317488491 sha256=a392f49845313e65f24b7f9bf2a9f7dbea190e242c682bc7df14d93ad2265b3d\n",
      "  Stored in directory: /home/jovyan/.cache/pip/wheels/95/13/41/f7f135ee114175605fb4f0a89e7389f3742aa6c1e1a5bcb657\n",
      "Successfully built pyspark\n",
      "Installing collected packages: py4j, pyspark\n",
      "Successfully installed py4j-0.10.9.7 pyspark-3.5.1\n"
     ]
    }
   ],
   "source": [
    "!pip install pyspark"
   ]
  },
  {
   "cell_type": "code",
   "execution_count": 51,
   "id": "91f08999-d5b5-4d0f-9655-c1201003ceca",
   "metadata": {},
   "outputs": [],
   "source": [
    "from pyspark.sql import SparkSession\n",
    "from pyspark.sql.functions import col, count, avg, desc, row_number , pandas_udf , expr , udf, max\n",
    "from pyspark.sql import functions as F\n",
    "from pyspark.sql.window import Window\n",
    "from pyspark.sql.types import *\n",
    "import math\n",
    "\n",
    "# Initialiser Spark\n",
    "spark = SparkSession.builder.appName(\"FlightRadarAnalysis\").getOrCreate()\n",
    "\n",
    "# Charger les données\n",
    "flights_df = spark.read.parquet(\"/home/jovyan/work/flights/*/*/*/*/*.parquet\").na.replace([\"N/A\",\"NaN\",\"\"],None)\n",
    "airlines_df = spark.read.parquet(\"/home/jovyan/work/airlines\").na.replace([\"N/A\",\"NaN\",\"\"],None)\n",
    "airports_df = spark.read.parquet(\"/home/jovyan/work/airports\").na.replace([\"N/A\",\"NaN\",\"\"],None)\n",
    "zones_df = spark.read.parquet(\"/home/jovyan/work/zones\")\n",
    "\n",
    "\n",
    "\n",
    "\n"
   ]
  },
  {
   "cell_type": "markdown",
   "id": "09583e51-19b1-4c95-9c72-722ec5328ed3",
   "metadata": {},
   "source": [
    "#### 1 La compagnie avec le + de vols en cours"
   ]
  },
  {
   "cell_type": "code",
   "execution_count": 52,
   "id": "bd8b45db-dec2-42fe-808e-4ac1400925b7",
   "metadata": {},
   "outputs": [
    {
     "data": {
      "text/plain": [
       "[Row(airline_icao='QTR', count=8641)]"
      ]
     },
     "execution_count": 52,
     "metadata": {},
     "output_type": "execute_result"
    }
   ],
   "source": [
    "grouped_active_flights = flights_df.filter(\"on_ground==0\").filter(col(\"airline_icao\").isNotNull()).groupBy(\"airline_icao\").agg({\"id\": \"count\"}).withColumnRenamed(\"count(id)\", \"count\")\n",
    "max_count = grouped_active_flights.agg({\"count\": \"max\"}).collect()[0][0]\n",
    "most_active_airline=grouped_active_flights.filter(col(\"count\") == max_count)\n",
    "\n",
    "\n",
    "most_active_airline.collect()"
   ]
  },
  {
   "cell_type": "markdown",
   "id": "fdbb81a2-7730-4d7d-a5fa-d954e4e894bb",
   "metadata": {},
   "source": [
    "#### 2 Compagnie avec le plus de vols régionaux actifs par continent:"
   ]
  },
  {
   "cell_type": "code",
   "execution_count": 53,
   "id": "0e4d5e2d-9cfc-4b4d-aa80-afa729216f7d",
   "metadata": {},
   "outputs": [
    {
     "data": {
      "text/plain": [
       "<function __main__.<lambda>(latitude, longitude)>"
      ]
     },
     "execution_count": 53,
     "metadata": {},
     "output_type": "execute_result"
    }
   ],
   "source": [
    "def get_continent(latitude, longitude, zones):\n",
    "    for continent, value in zones.items():\n",
    "        if float(value[\"tl_x\"]) <= float(latitude) <= float(value[\"br_x\"]) and float(value[\"br_y\"]) <= float(longitude) <= float(value[\"tl_y\"]):\n",
    "            return continent\n",
    "    return None\n",
    "\n",
    "zones = zones_df.rdd.map(lambda row: (row[\"zone\"], {\"tl_x\": row[\"tl_x\"], \"br_x\": row[\"br_x\"], \"br_y\": row[\"br_y\"], \"tl_y\": row[\"tl_y\"]})).collectAsMap()\n",
    "\n",
    "spark.udf.register(\"get_continent_udf\", lambda latitude, longitude: get_continent(latitude, longitude, zones), StringType())\n",
    "\n",
    "\n"
   ]
  },
  {
   "cell_type": "code",
   "execution_count": 54,
   "id": "35b11767-5cca-49d0-814f-f3b194a7feef",
   "metadata": {},
   "outputs": [
    {
     "name": "stdout",
     "output_type": "stream",
     "text": [
      "+----------------+------------+------------+---------+\n",
      "|origin_continent|airline_iata|flight_count|max_count|\n",
      "+----------------+------------+------------+---------+\n",
      "|          africa|          U2|         490|        1|\n",
      "+----------------+------------+------------+---------+\n",
      "\n"
     ]
    }
   ],
   "source": [
    "airports_with_continents = airports_df.withColumn(\"continent\", expr(\"get_continent_udf(latitude, longitude)\"))\n",
    "\n",
    "flights_with_airports = flights_df.join(airports_with_continents, flights_df.origin_airport_iata == airports_with_continents.iata, \"left\") \\\n",
    "    .select(flights_df[\"*\"], airports_with_continents[\"continent\"].alias(\"origin_continent\"))\n",
    "\n",
    "flights_with_airports = flights_with_airports.join(airports_with_continents, flights_with_airports.destination_airport_iata == airports_with_continents.iata, \"left\") \\\n",
    "    .select(flights_with_airports[\"*\"], airports_with_continents[\"continent\"].alias(\"destination_continent\"))\n",
    "\n",
    "regional_flights = flights_with_airports.filter(col(\"origin_continent\") == col(\"destination_continent\"))\n",
    "regional_flights.groupBy(\"origin_continent\", \"airline_iata\").count().withColumnRenamed(\"count\", \"flight_count\") \\\n",
    "    .withColumn(\"max_count\", F.row_number().over(Window.partitionBy(\"origin_continent\").orderBy(desc(\"flight_count\")))) \\\n",
    "    .filter(col(\"max_count\") == 1) \\\n",
    "    .show()\n"
   ]
  },
  {
   "cell_type": "markdown",
   "id": "71ca7df4-fa8a-4ade-a08b-464a2a09eae7",
   "metadata": {},
   "source": [
    "#### 3 .Le vol en cours avec le trajet le plus distant\n"
   ]
  },
  {
   "cell_type": "code",
   "execution_count": 43,
   "id": "bea04c44-43c4-4223-8a04-4ab383d340a7",
   "metadata": {},
   "outputs": [],
   "source": [
    "def haversine(lat1, lon1, lat2, lon2):\n",
    "    R = 6371  # Earth radius in kilometers\n",
    "    phi1 = math.radians(lat1)\n",
    "    phi2 = math.radians(lat2)\n",
    "    delta_phi = math.radians(lat2 - lat1)\n",
    "    delta_lambda = math.radians(lon2 - lon1)\n",
    "    \n",
    "    a = math.sin(delta_phi / 2) ** 2 + math.cos(phi1) * math.cos(phi2) * math.sin(delta_lambda / 2) ** 2\n",
    "    c = 2 * math.atan2(math.sqrt(a), math.sqrt(1 - a))\n",
    "    \n",
    "    distance = R * c\n",
    "    return int(distance)\n",
    "\n",
    "haversine_udf = udf(haversine, IntegerType())\n",
    "\n",
    "\n"
   ]
  },
  {
   "cell_type": "code",
   "execution_count": 44,
   "id": "be2adb29-8b35-4d8e-8dbf-b248b637f3b9",
   "metadata": {},
   "outputs": [
    {
     "data": {
      "text/plain": [
       "Row(id='36294d7b', icao_24bit='76CCE1', latitude='40.6866', longitude='-74.174', heading='25', altitude='0', ground_speed='0', aircraft_code='A359', registration='9V-SGA', time=1721124698, origin_airport_iata='SIN', destination_airport_iata='EWR', number='SQ22', airline_iata='SQ', on_ground='1', vertical_speed='0', callsign='SIA22', airline_icao='SIA', origin_iata='SIN', origin_latitude='1.350189', origin_longitude='103.9944', destination_iata='EWR', destination_latitude='40.692501', destination_longitude='-74.168602', distance=15336)"
      ]
     },
     "execution_count": 44,
     "metadata": {},
     "output_type": "execute_result"
    }
   ],
   "source": [
    "\n",
    "origin_airports = airports_df.select(col(\"iata\").alias(\"origin_iata\"), col(\"latitude\").alias(\"origin_latitude\"), col(\"longitude\").alias(\"origin_longitude\"))\n",
    "destination_airports = airports_df.select(col(\"iata\").alias(\"destination_iata\"), col(\"latitude\").alias(\"destination_latitude\"), col(\"longitude\").alias(\"destination_longitude\"))\n",
    "\n",
    "flights_with_airports_org_des = flights_df.distinct() \\\n",
    "    .join(origin_airports, flights_df.origin_airport_iata == origin_airports.origin_iata, \"left\") \\\n",
    "    .join(destination_airports, flights_df.destination_airport_iata == destination_airports.destination_iata, \"left\")\n",
    "\n",
    "flights_with_airports_org_des = flights_with_airports_org_des.filter(\n",
    "    col(\"origin_latitude\").isNotNull() & col(\"origin_longitude\").isNotNull() &\n",
    "    col(\"destination_latitude\").isNotNull() & col(\"destination_longitude\").isNotNull()\n",
    ")\n",
    "# Add a column for the distance using the Haversine formula\n",
    "flights_with_airports_distance = flights_with_airports_org_des.withColumn(\"distance\", haversine_udf(\n",
    "    col(\"origin_latitude\").cast(\"double\"), col(\"origin_longitude\").cast(\"double\"),\n",
    "    col(\"destination_latitude\").cast(\"double\"), col(\"destination_longitude\").cast(\"double\")\n",
    "))\n",
    "\n",
    "flights_with_airports_distance.filter(col(\"on_ground\")!= \"0\").filter(col(\"distance\").isNotNull()).orderBy(desc(\"distance\")).first()"
   ]
  },
  {
   "cell_type": "markdown",
   "id": "63097958-2697-43de-bae7-7cd2f24ccd15",
   "metadata": {},
   "source": [
    "#### 3 Le vol en cours avec le trajet le plus long"
   ]
  },
  {
   "cell_type": "code",
   "execution_count": 45,
   "id": "f4d7e631-e959-4e21-a928-64baee1ebd07",
   "metadata": {},
   "outputs": [
    {
     "data": {
      "text/plain": [
       "Row(id='362b78a9', icao_24bit='7105B2', latitude='53.3533', longitude='-2.2819', heading='28', altitude='0', ground_speed='14', aircraft_code='B78X', registration='HZ-AR33', time=1721128570, origin_airport_iata='JED', destination_airport_iata='MAN', number='SV123', airline_iata='SV', on_ground='1', vertical_speed='0', callsign='SVA123', airline_icao='SVA', origin_iata='JED', origin_latitude='21.67956', origin_longitude='39.156528', destination_iata='MAN', destination_latitude='53.353741', destination_longitude='-2.27495', distance=4957)"
      ]
     },
     "execution_count": 45,
     "metadata": {},
     "output_type": "execute_result"
    }
   ],
   "source": [
    "flights_with_airports_distance.filter(col(\"on_ground\")!= \"0\").filter(col(\"distance\").isNotNull()).orderBy(desc(\"time\")).first()"
   ]
  },
  {
   "cell_type": "markdown",
   "id": "6dc60d19-464d-48e7-82c1-a2ac56a56b7d",
   "metadata": {},
   "source": [
    "#### Pour chaque continent, la distance du vol moyenne"
   ]
  },
  {
   "cell_type": "code",
   "execution_count": 46,
   "id": "4d18af4f-1913-4d6a-b04c-f607aecdbeb7",
   "metadata": {},
   "outputs": [
    {
     "name": "stdout",
     "output_type": "stream",
     "text": [
      "+----------------+------------------+\n",
      "|origin_continent|   avg_distance_km|\n",
      "+----------------+------------------+\n",
      "|            NULL|7587.7126084256515|\n",
      "|          africa| 7372.251713344654|\n",
      "|        atlantic| 7267.141355067504|\n",
      "|          europe| 4369.982864403703|\n",
      "|   northatlantic|            3131.0|\n",
      "|    southamerica|            5465.0|\n",
      "+----------------+------------------+\n",
      "\n"
     ]
    }
   ],
   "source": [
    "avg_flight_length = flights_with_airports_distance.join(\n",
    "    flights_with_airports,\n",
    "    flights_with_airports_distance[\"id\"] == flights_with_airports[\"id\"],\n",
    "    \"inner\"\n",
    ").select(\n",
    "    flights_with_airports_distance[\"*\"],\n",
    "    flights_with_airports[\"origin_continent\"]\n",
    ")\n",
    "\n",
    "avg_flight_ldistance_per_continent = avg_flight_length.groupBy(\"origin_continent\") \\\n",
    "    .agg(F.avg(\"distance\").alias(\"avg_distance_km\")) \\\n",
    "    .orderBy(\"origin_continent\")\n",
    "\n",
    "avg_flight_ldistance_per_continent.show()"
   ]
  },
  {
   "cell_type": "markdown",
   "id": "be25166f-7086-456c-b4ac-d495952722cd",
   "metadata": {},
   "source": [
    "#### 4. Pour chaque continent, le temps du vol moyenne"
   ]
  },
  {
   "cell_type": "code",
   "execution_count": 47,
   "id": "cd87afa5-7465-461b-abae-b6861b4a44ad",
   "metadata": {},
   "outputs": [
    {
     "name": "stdout",
     "output_type": "stream",
     "text": [
      "+----------------+--------------------+\n",
      "|origin_continent|            avg_time|\n",
      "+----------------+--------------------+\n",
      "|            NULL|1.7211224011026514E9|\n",
      "|          africa|1.7211224006078608E9|\n",
      "|        atlantic|1.7211223912878788E9|\n",
      "|    southamerica|      1.7211224018E9|\n",
      "+----------------+--------------------+\n",
      "\n"
     ]
    }
   ],
   "source": [
    "average_flight_duration_per_continent = flights_df.withColumn(\"continent\",expr(\"get_continent_udf(latitude, longitude)\"))\\\n",
    "    .groupBy(\"continent\").avg(\"time\").withColumnRenamed(\"avg(time)\", \"average_time\")\n",
    "avg_flight_distance_per_continent.show()"
   ]
  },
  {
   "cell_type": "markdown",
   "id": "250670f6-c52d-40da-ad77-687dc2aaad03",
   "metadata": {},
   "source": [
    "#### 5. L'entreprise constructeur d'avions avec le plus de vols actifs\n"
   ]
  },
  {
   "cell_type": "code",
   "execution_count": 23,
   "id": "de6a5ad1-11b3-4036-8ffc-b3b9511cadee",
   "metadata": {},
   "outputs": [
    {
     "name": "stdout",
     "output_type": "stream",
     "text": [
      "Row(aircraft_code='B77W', count=841)\n"
     ]
    }
   ],
   "source": [
    "most_active_aircraft = flights_df.filter(\"on_ground==0\").groupBy(\"aircraft_code\").agg({\"id\": \"count\"}).withColumnRenamed(\"count(id)\", \"count\")\\\n",
    "        .orderBy(col(\"count\").desc()).first()\n",
    "print(most_active_aircraft)"
   ]
  },
  {
   "cell_type": "code",
   "execution_count": 27,
   "id": "245da68b-3ee4-46f0-88a7-88bc8d6d9b53",
   "metadata": {},
   "outputs": [
    {
     "data": {
      "text/plain": [
       "Row(id='356a8712', icao_24bit='A25CE6', latitude='43.7712', longitude='-96.1506', heading='308', altitude='65100', ground_speed='6', aircraft_code='BALL', registration='N251TH', time=1721122281, origin_airport_iata=None, destination_airport_iata=None, number=None, airline_iata=None, on_ground='0', vertical_speed='0', callsign='HBAL684', airline_icao=None)"
      ]
     },
     "execution_count": 27,
     "metadata": {},
     "output_type": "execute_result"
    }
   ],
   "source": [
    "flights_df.first()"
   ]
  },
  {
   "cell_type": "markdown",
   "id": "8c606674-b190-45f9-9c56-85baef89ca22",
   "metadata": {},
   "source": [
    "# 6. Pour chaque pays de compagnie aérienne, le top 3 des modèles d'avion en usage\n"
   ]
  },
  {
   "cell_type": "code",
   "execution_count": 50,
   "id": "aedf05d1-d4e3-43f6-8479-06a8896799b3",
   "metadata": {},
   "outputs": [
    {
     "name": "stdout",
     "output_type": "stream",
     "text": [
      "+------------+-------------+-----+\n",
      "|airline_iata|aircraft_code|count|\n",
      "+------------+-------------+-----+\n",
      "|        NULL|         GLEX|  864|\n",
      "|        NULL|         GLID|  842|\n",
      "|        NULL|         BALL|  525|\n",
      "|          2C|         B77L|    2|\n",
      "|          2F|         C208|   19|\n",
      "|          2S|         B773|   16|\n",
      "|          2W|         A333|  105|\n",
      "|          2W|         A359|    2|\n",
      "|          3K|         A320|   51|\n",
      "|          3L|         A320|   64|\n",
      "|          3S|         B77L|  652|\n",
      "|          3U|         A332|  105|\n",
      "|          3U|         A333|   35|\n",
      "|          3V|         B744|   50|\n",
      "|          4G|         B737|   55|\n",
      "|          4S|         B738|    9|\n",
      "|          4Y|         A332|   45|\n",
      "|          4Z|         E135|   14|\n",
      "|          5J|         A339|   81|\n",
      "|          5J|         A21N|   41|\n",
      "+------------+-------------+-----+\n",
      "only showing top 20 rows\n",
      "\n"
     ]
    }
   ],
   "source": [
    "top_3_aircrafts_per_country = flights_df.groupBy([\"airline_iata\",\"aircraft_code\"]).agg({\"id\": \"count\"}).withColumnRenamed(\"count(id)\", \"count\") \\\n",
    "        .orderBy(F.col(\"count\").desc())\n",
    "\n",
    "windows=Window.partitionBy(\"airline_iata\").orderBy(F.col(\"count\").desc())\n",
    "\n",
    "top_3_aircrafts_per_country=top_3_aircrafts_per_country.withColumn(\"row_number\", F.row_number().over(windows)).filter(F.col(\"row_number\") <= 3).drop(\"row_number\")\n",
    "\n",
    "top_3_aircrafts_per_country.show()"
   ]
  },
  {
   "cell_type": "code",
   "execution_count": null,
   "id": "6aa357ab-c0f0-44bf-838e-b489f1e09c03",
   "metadata": {},
   "outputs": [],
   "source": []
  }
 ],
 "metadata": {
  "kernelspec": {
   "display_name": "Python 3 (ipykernel)",
   "language": "python",
   "name": "python3"
  },
  "language_info": {
   "codemirror_mode": {
    "name": "ipython",
    "version": 3
   },
   "file_extension": ".py",
   "mimetype": "text/x-python",
   "name": "python",
   "nbconvert_exporter": "python",
   "pygments_lexer": "ipython3",
   "version": "3.11.6"
  }
 },
 "nbformat": 4,
 "nbformat_minor": 5
}
